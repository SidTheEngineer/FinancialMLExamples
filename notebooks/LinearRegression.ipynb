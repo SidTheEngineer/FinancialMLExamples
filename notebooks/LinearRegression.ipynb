{
 "cells": [
  {
   "cell_type": "markdown",
   "metadata": {},
   "source": [
    "# Using Linear Regression to predict EOD closing stock price"
   ]
  },
  {
   "cell_type": "code",
   "execution_count": null,
   "metadata": {},
   "outputs": [],
   "source": [
    "import quandl\n",
    "import matplotlib.pyplot as plt\n",
    "from matplotlib import style\n",
    "import datetime\n",
    "import numpy as np\n",
    "from sklearn.linear_model import LinearRegression\n",
    "from sklearn.model_selection import train_test_split\n",
    "\n",
    "import config"
   ]
  },
  {
   "cell_type": "markdown",
   "metadata": {},
   "source": [
    "## Edit these to set key and adjust parameters"
   ]
  },
  {
   "cell_type": "code",
   "execution_count": null,
   "metadata": {},
   "outputs": [],
   "source": [
    "COMPANY_TICKER = 'MSFT'\n",
    "QUANDL_API_KEY = 'YOUR_API_KEY_HERE'\n",
    "START_DATE = datetime.date(2017, 1, 1)\n",
    "END_DATE = datetime.date.today()"
   ]
  },
  {
   "cell_type": "code",
   "execution_count": null,
   "metadata": {},
   "outputs": [],
   "source": [
    "quandl.ApiConfig.api_key = config.quandl_api_key or QUANDL_API_KEY\n",
    "\n",
    "def get_daily_close_df(company_ticker):\n",
    "    kwargs = {\n",
    "        'start_date': START_DATE,\n",
    "        'end_date': END_DATE,\n",
    "        'collapse': \"daily\"\n",
    "    }\n",
    "    return quandl.get('EOD/{}.4'.format(company_ticker), **kwargs).reset_index()\n",
    "\n",
    "def convert_to_1d_vector(df_data):\n",
    "    return np.reshape(df_data, (len(df_data), 1))\n",
    "\n",
    "def create_regressor(x_vector, y_vector):\n",
    "    return LinearRegression().fit(x_vector, y_vector)\n",
    "\n",
    "def generate_visuals(regressor, x_vector, y_vector):\n",
    "    plt.scatter(x_vector, y_vector, color='green', label= 'Actual Price')\n",
    "    plt.plot(x_vector, regressor.predict(x_vector), color='red', linewidth=3, label = 'Predicted Price')\n",
    "    plt.title('Linear Regression | Time vs. Price')\n",
    "    plt.legend()\n",
    "    plt.xlabel('Date Integer')\n",
    "    plt.show()"
   ]
  },
  {
   "cell_type": "code",
   "execution_count": null,
   "metadata": {},
   "outputs": [],
   "source": [
    "daily_close_df = get_daily_close_df(COMPANY_TICKER)\n",
    "prices = convert_to_1d_vector(daily_close_df['Close'].tolist())\n",
    "date_indeces = convert_to_1d_vector(daily_close_df.index.tolist())\n",
    "\n",
    "generate_visuals(create_regressor(date_indeces, prices), date_indeces, prices)"
   ]
  }
 ],
 "metadata": {},
 "nbformat": 4,
 "nbformat_minor": 2
}
